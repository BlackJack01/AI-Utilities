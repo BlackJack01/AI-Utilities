{
 "cells": [
  {
   "cell_type": "code",
   "execution_count": 1,
   "metadata": {},
   "outputs": [],
   "source": [
    "import pandas as pd\n",
    "import pandasql as ps"
   ]
  },
  {
   "cell_type": "code",
   "execution_count": 3,
   "metadata": {},
   "outputs": [],
   "source": [
    "import string\n",
    "import gc\n",
    "import time"
   ]
  },
  {
   "cell_type": "code",
   "execution_count": 4,
   "metadata": {},
   "outputs": [],
   "source": [
    "cms = pd.read_csv('cms.csv')\n",
    "cms = cms[['Ref Series Title', 'Genre']]\n",
    "shows = list(set(cms[(cms['Genre'] == 'Kids') | (cms['Genre'] == 'Kids,Animation')].reset_index()['Ref Series Title']))"
   ]
  },
  {
   "cell_type": "code",
   "execution_count": 5,
   "metadata": {},
   "outputs": [
    {
     "name": "stderr",
     "output_type": "stream",
     "text": [
      "c:\\users\\aakasht\\appdata\\local\\continuum\\anaconda3\\envs\\py361\\lib\\site-packages\\IPython\\core\\interactiveshell.py:3044: DtypeWarning: Columns (0,1) have mixed types. Specify dtype option on import or set low_memory=False.\n",
      "  interactivity=interactivity, compiler=compiler, result=result)\n"
     ]
    }
   ],
   "source": [
    "query = pd.read_csv('file.csv', encoding=\"ISO-8859-1\")[['search_string', 'count(search_string)', 'sum(number_of_search_results)']]"
   ]
  },
  {
   "cell_type": "code",
   "execution_count": 6,
   "metadata": {},
   "outputs": [],
   "source": [
    "### Get the queries for which zero results were showed\n",
    "query = query[query['sum(number_of_search_results)'] == 0].reset_index()[['search_string', 'count(search_string)']]"
   ]
  },
  {
   "cell_type": "code",
   "execution_count": 7,
   "metadata": {},
   "outputs": [],
   "source": [
    "def isEnglish(s):\n",
    "    try:\n",
    "        s.encode(encoding='utf-8').decode('ascii')\n",
    "    except UnicodeDecodeError:\n",
    "        return False\n",
    "    else:\n",
    "        return True"
   ]
  },
  {
   "cell_type": "code",
   "execution_count": 8,
   "metadata": {},
   "outputs": [],
   "source": [
    "def filter_noneng(s):\n",
    "    if isEnglish(s):\n",
    "        return s"
   ]
  },
  {
   "cell_type": "code",
   "execution_count": 9,
   "metadata": {},
   "outputs": [],
   "source": [
    "query_ = []\n",
    "query_instances = []\n",
    "for i,q in enumerate(query['search_string']):\n",
    "    if type(filter_noneng(q)) == str:\n",
    "        query_.append(filter_noneng(q))\n",
    "        query_instances.append(query['count(search_string)'][i])"
   ]
  },
  {
   "cell_type": "code",
   "execution_count": 10,
   "metadata": {},
   "outputs": [],
   "source": [
    "from multiprocessing import Pool"
   ]
  },
  {
   "cell_type": "code",
   "execution_count": 20,
   "metadata": {},
   "outputs": [],
   "source": [
    "query_1 = query_[:int(len(query_)/4)]\n",
    "query_2 = query_[int(len(query_)/4):int(len(query_)/4)*2]\n",
    "query_3 = query_[int(len(query_)/4)*2:int(len(query_)/4)*3]\n",
    "query_4 = query_[int(len(query_)/4)*3:]"
   ]
  },
  {
   "cell_type": "code",
   "execution_count": 21,
   "metadata": {},
   "outputs": [],
   "source": [
    "query_instances_1 = query_instances[:int(len(query_instances)/4)]\n",
    "query_instances_2 = query_instances[int(len(query_instances)/4):int(len(query_instances)/4)*2]\n",
    "query_instances_3 = query_instances[int(len(query_instances)/4)*2:int(len(query_instances)/4)*3]\n",
    "query_instances_4 = query_instances[int(len(query_instances)/4)*3:]"
   ]
  },
  {
   "cell_type": "code",
   "execution_count": 14,
   "metadata": {},
   "outputs": [],
   "source": [
    "from final_func import *"
   ]
  },
  {
   "cell_type": "code",
   "execution_count": 22,
   "metadata": {},
   "outputs": [],
   "source": [
    "if __name__ == '__main__':\n",
    "    pool = Pool(processes=4)\n",
    "    result_list = pool.map(final_results, [(query_1, shows, query_instances_1), (query_2, shows, query_instances_2), (query_3, shows, query_instances_3), (query_4, shows, query_instances_4)])"
   ]
  },
  {
   "cell_type": "code",
   "execution_count": 30,
   "metadata": {},
   "outputs": [],
   "source": [
    "final_tags = None\n",
    "for i in range(4):\n",
    "    if i == 0:\n",
    "        final_tags = pd.DataFrame(result_list[i])\n",
    "    else:\n",
    "        final_tags = final_tags.append(pd.DataFrame(result_list[i]))"
   ]
  },
  {
   "cell_type": "code",
   "execution_count": 32,
   "metadata": {},
   "outputs": [],
   "source": [
    "final_tags.columns = ['query', 'show_name', 'volume_of_faulty_query']"
   ]
  },
  {
   "cell_type": "code",
   "execution_count": 38,
   "metadata": {},
   "outputs": [],
   "source": [
    "final_tags = final_tags[['show_name', 'query', 'volume_of_faulty_query']].sort_values(['volume_of_faulty_query'], ascending = False).reset_index(drop =True)"
   ]
  },
  {
   "cell_type": "code",
   "execution_count": 39,
   "metadata": {},
   "outputs": [],
   "source": [
    "final_tags.to_csv('final_kids_tags_feb_2_apr_2018.csv', header = True)"
   ]
  },
  {
   "cell_type": "code",
   "execution_count": null,
   "metadata": {},
   "outputs": [],
   "source": [
    "cost_fn('MRKP', 'POKEMON')"
   ]
  }
 ],
 "metadata": {
  "kernelspec": {
   "display_name": "Python 3",
   "language": "python",
   "name": "python3"
  },
  "language_info": {
   "codemirror_mode": {
    "name": "ipython",
    "version": 3
   },
   "file_extension": ".py",
   "mimetype": "text/x-python",
   "name": "python",
   "nbconvert_exporter": "python",
   "pygments_lexer": "ipython3",
   "version": "3.6.4"
  }
 },
 "nbformat": 4,
 "nbformat_minor": 2
}
